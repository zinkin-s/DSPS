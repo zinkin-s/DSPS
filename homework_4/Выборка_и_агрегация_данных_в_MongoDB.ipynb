{
  "cells": [
    {
      "cell_type": "markdown",
      "metadata": {
        "id": "LbOZ0b-MLYMG"
      },
      "source": [
        "# Выборка и агрегация данных в MongoDB\n",
        "\n",
        "###Цель домашней работы\n",
        "\n",
        "Закрепить на практике основные приемы работы с СУБД MongoDB, включая выборку, сортировку, объединение, агрегацию данных и передачу результатов выборки в программу на Python в целях аналитики и дальнейшей обработки."
      ]
    },
    {
      "cell_type": "markdown",
      "metadata": {
        "id": "VGMYMmFvEAQY"
      },
      "source": [
        "### Формулировка задания\n",
        "\n",
        "В этом задании вам предстоит выполнить несколько запросов к базе данных для получения выборок по условиям, а также воспользоваться фреймворком агрегации MongoDB для построения конвейера обработки данных.\n",
        "\n",
        "Максимальное количество баллов за выполнение домашней работы: 10."
      ]
    },
    {
      "cell_type": "markdown",
      "metadata": {
        "id": "3S2xr8EESZ8A"
      },
      "source": [
        "##Что нужно использовать в работе над заданием\n",
        "\n",
        "I. MongoDB:\n",
        "\n",
        "1. Зарегистрируйтесь в сервисе MongoDB Atlas: https://www.mongodb.com/atlas/database.\n",
        "1. Создайте кластер уровня M0 (это бесплатно).\n",
        "1. Добавьте в кластер тестовую базу данных `sample_mflix`, используя опцию Load Sample Dataset.\n",
        "\n",
        "В качестве альтернативы вы можете установить MongoDB на свой локальный компьютер и импортировать необходимые датасеты в свою СУБД, загрузив их по ссылке: https://github.com/neelabalan/mongodb-sample-dataset/tree/main/sample_mflix. Для этого подключитесь к своему серверу через Compass, создайте новую БД, создайте для каждого датасета коллекцию и щелкните «Add data» → «Import JSON or CSV file».\n",
        "\n",
        "II. MongoDB Compass — в качестве вспомогательного инструмента для конструирования запросов и агрегаций.\n",
        "\n",
        "III. Python и библиотека pymongo. Работа ведется в Jupyter Notebook или Google Colaboratory. Рекомендуется использовать версию Python 3.12."
      ]
    },
    {
      "cell_type": "markdown",
      "metadata": {
        "id": "xyG0RIatRiaQ"
      },
      "source": [
        "##Ожидаемые результаты\n",
        "\n",
        "Результаты работы необходимо оформить в виде ноутбука Jupyter. Можно загрузить файл в LMS либо поделиться ссылкой на Google Colaboratory."
      ]
    },
    {
      "cell_type": "markdown",
      "metadata": {
        "id": "O9MAw9odS5LD"
      },
      "source": [
        "##Место где нужно выполнить задание\n",
        "\n"
      ]
    },
    {
      "cell_type": "code",
      "execution_count": null,
      "metadata": {
        "id": "ktBuEf5lTBnx"
      },
      "outputs": [],
      "source": [
        "#Начать выполнение задания тут"
      ]
    },
    {
      "cell_type": "code",
      "execution_count": 1,
      "metadata": {
        "colab": {
          "base_uri": "https://localhost:8080/"
        },
        "id": "hUzn3aDI2stL",
        "outputId": "ec83cccf-e339-4f3c-aefc-29d13c2d612c"
      },
      "outputs": [
        {
          "name": "stdout",
          "output_type": "stream",
          "text": [
            "['admin', 'config', 'local', 'sample_mflix', 'students_db']\n"
          ]
        }
      ],
      "source": [
        "#!pip install pymongo\n",
        "\n",
        "import pymongo\n",
        "\n",
        "client = pymongo.MongoClient(\"mongodb://localhost:27017\")\n",
        "print(client.list_database_names())  # Вывести список БД для проверки подключения"
      ]
    },
    {
      "cell_type": "markdown",
      "metadata": {
        "id": "3hkkb3IAiJyx"
      },
      "source": [
        "### Упражнение 1. Запросы на выборку"
      ]
    },
    {
      "cell_type": "markdown",
      "metadata": {
        "id": "2t6Z-LgtiSwL"
      },
      "source": [
        "Цель этого упражнения — закрепить навык выполнения запросов на выборку. Все запросы выполняются на базе `sample_mflix` с данными о кинофильмах."
      ]
    },
    {
      "cell_type": "markdown",
      "metadata": {
        "id": "SZnDnHNo0sPv"
      },
      "source": [
        "#### Задача 1.1 — **1 балл**"
      ]
    },
    {
      "cell_type": "markdown",
      "metadata": {
        "id": "A_Y7zbHe0u1T"
      },
      "source": [
        "Выведите из коллекции `theaters` документы о кинотеатрах в городе Florence, штат KY.\n",
        "\n",
        "Для справки:\n",
        "\n",
        "* Обратите внимание на то, что информация об адресе кинотеатров хранится во вложенных документах. Для доступа к полям вложенных документов следует использовать точку: `родительский_документ.вложенный_документ.поле`.\n",
        "* В случае затруднений с написанием логического условия обращайтесь к сопоставлению синтаксиса SQL и Mongo: https://www.mongodb.com/docs/manual/reference/sql-comparison/.\n",
        "* Если вы предпочитаете сперва выполнять запросы в Compass, из этого приложения можно выгружать код готового запроса на Python (кнопка с символом `</>`)."
      ]
    },
    {
      "cell_type": "code",
      "execution_count": 2,
      "metadata": {
        "id": "_z2iic5S0zCk"
      },
      "outputs": [
        {
          "data": {
            "text/plain": [
              "[{'_id': ObjectId('59a47287cfa9a3a73e51e893'),\n",
              "  'theaterId': 161,\n",
              "  'location': {'address': {'street1': '100 Meijer Dr.',\n",
              "    'city': 'Florence',\n",
              "    'state': 'KY',\n",
              "    'zipcode': '41042'},\n",
              "   'geo': {'type': 'Point', 'coordinates': [-84.636383, 39.014843]}}},\n",
              " {'_id': ObjectId('59a47287cfa9a3a73e51ea02'),\n",
              "  'theaterId': 2823,\n",
              "  'location': {'address': {'street1': '2823 Florence Mall',\n",
              "    'street2': '#2148',\n",
              "    'city': 'Florence',\n",
              "    'state': 'KY',\n",
              "    'zipcode': '41042'},\n",
              "   'geo': {'type': 'Point', 'coordinates': [-84.6499595, 38.9967246]}}}]"
            ]
          },
          "execution_count": 2,
          "metadata": {},
          "output_type": "execute_result"
        }
      ],
      "source": [
        "# Ваш код здесь\n",
        "db = client['sample_mflix']\n",
        "collection = db['theaters']\n",
        "\n",
        "cur = collection.find(\n",
        "    {\"location.address.city\": \"Florence\", \n",
        "    \"location.address.state\": \"KY\"}\n",
        ")\n",
        "\n",
        "list(cur)"
      ]
    },
    {
      "cell_type": "markdown",
      "metadata": {
        "id": "ZddwIpmPITB4"
      },
      "source": [
        "#### Задача 1.2 — **1 балл**"
      ]
    },
    {
      "cell_type": "markdown",
      "metadata": {
        "id": "n6hLPu2iODjH"
      },
      "source": [
        "Сделав запрос к коллекции `comments`, выведите _один_ комментарий (значение поля `text`) пользователя по имени Doreah."
      ]
    },
    {
      "cell_type": "code",
      "execution_count": 3,
      "metadata": {
        "id": "GXOz_fZCPFg_"
      },
      "outputs": [
        {
          "data": {
            "text/plain": [
              "[{'_id': ObjectId('5a9427648b0beebeb6957b18'),\n",
              "  'name': 'Doreah',\n",
              "  'email': 'roxanne_mckee@gameofthron.es',\n",
              "  'movie_id': ObjectId('573a1391f29313caabcd7915'),\n",
              "  'text': 'Porro explicabo cumque vitae sint quia quis. Consequuntur voluptatibus optio maxime ratione temporibus incidunt minus architecto.',\n",
              "  'date': datetime.datetime(1983, 9, 13, 3, 38, 23)}]"
            ]
          },
          "execution_count": 3,
          "metadata": {},
          "output_type": "execute_result"
        }
      ],
      "source": [
        "# Ваш код здесь\n",
        "cur = db[\"comments\"].find(\n",
        "    {\"name\": \"Doreah\"}\n",
        ").limit(1)\n",
        "\n",
        "list(cur)"
      ]
    },
    {
      "cell_type": "markdown",
      "metadata": {
        "id": "tZEJx_DoXuDL"
      },
      "source": [
        "#### Задача 1.3 — **1 балл**"
      ]
    },
    {
      "cell_type": "markdown",
      "metadata": {
        "id": "h8k13yBRX0Uf"
      },
      "source": [
        "Сделав запрос к коллекции `movies`, выведите количество документов, в которых в качестве первого жанра фильма (поле `genres`) указано значение «Horror».\n",
        "\n",
        "Для справки:\n",
        "\n",
        "1. Обратите внимание, что поле `genres` представляет собой массив (индексация массивов начинается с нуля).\n",
        "1. При работе в MongoDB Shell для подсчета количества документов в курсоре можно использовать метод `count()`, однако он был удален в последних версиях библиотеки pymongo. В случае затруднений с использованием функций Mongo можно использовать для подсчета документов средства Python."
      ]
    },
    {
      "cell_type": "code",
      "execution_count": 4,
      "metadata": {
        "id": "3T6W4GVUX154"
      },
      "outputs": [
        {
          "name": "stdout",
          "output_type": "stream",
          "text": [
            "814\n"
          ]
        }
      ],
      "source": [
        "# Ваш код здесь\n",
        "cur = db[\"movies\"].count_documents(\n",
        "    {\"genres.0\": \"Horror\"}\n",
        ")\n",
        "\n",
        "print(cur)"
      ]
    },
    {
      "cell_type": "markdown",
      "metadata": {
        "id": "kTue_nh7TFUx"
      },
      "source": [
        "#### Задача 1.4 — **2 балла**"
      ]
    },
    {
      "cell_type": "markdown",
      "metadata": {
        "id": "kuIndgkLT9Tm"
      },
      "source": [
        "Выведите из коллекции `movies` документы о фильмах, которые в качестве первого жанра определены как «Film-Noir» либо «Horror» и были выпущены в период с 1940 по 1949 гг. (включительно)."
      ]
    },
    {
      "cell_type": "code",
      "execution_count": 13,
      "metadata": {
        "id": "hQwJj-fyTtQ1"
      },
      "outputs": [
        {
          "name": "stdout",
          "output_type": "stream",
          "text": [
            "8\n"
          ]
        }
      ],
      "source": [
        "# Ваш код здесь\n",
        "from datetime import datetime\n",
        "from datetime import timezone\n",
        "\n",
        "cur = db[\"movies\"].count_documents(\n",
        "    {\n",
        "    '$or': [\n",
        "        {\n",
        "            'genres.0': 'Horror'\n",
        "        }, {\n",
        "            'genres.0': 'Film-Noir'\n",
        "        }\n",
        "    ], \n",
        "    'released': {\n",
        "        '$gte': datetime(1939, 12, 31, 21, 0, 0, tzinfo=timezone.utc), \n",
        "        '$lte': datetime(1949, 12, 31, 21, 0, 0, tzinfo=timezone.utc)\n",
        "    }\n",
        "}\n",
        ")\n",
        "\n",
        "print(cur)"
      ]
    },
    {
      "cell_type": "markdown",
      "metadata": {
        "id": "B56JNDs88fnh"
      },
      "source": [
        "#### Задача 1.5 — **1 балл**"
      ]
    },
    {
      "cell_type": "markdown",
      "metadata": {
        "id": "VvFx2iL98mTQ"
      },
      "source": [
        "Модифицируйте запрос из задачи 1.4 таким образом, чтобы осуществить _проекцию_: результатом выборки должен стать список словарей, каждый из которых содержит только два поля: `title` и `year`.\n",
        "\n",
        "Для справки о проекции см. документацию по методу `find()` в pymongo:\n",
        "https://pymongo.readthedocs.io/en/stable/api/pymongo/collection.html#pymongo.collection.Collection.find"
      ]
    },
    {
      "cell_type": "code",
      "execution_count": 17,
      "metadata": {
        "id": "tnkwb6HXY014"
      },
      "outputs": [
        {
          "data": {
            "text/plain": [
              "[{'title': 'Cat People', 'year': 1942},\n",
              " {'title': 'I Walked with a Zombie', 'year': 1943},\n",
              " {'title': 'The Leopard Man', 'year': 1943},\n",
              " {'title': 'Dead of Night', 'year': 1945},\n",
              " {'title': 'Spellbound', 'year': 1945},\n",
              " {'title': 'The Chase', 'year': 1946},\n",
              " {'title': 'The Set-Up', 'year': 1949},\n",
              " {'title': 'The Third Man', 'year': 1949}]"
            ]
          },
          "execution_count": 17,
          "metadata": {},
          "output_type": "execute_result"
        }
      ],
      "source": [
        "# Ваш код здесь\n",
        "# Ваш код здесь\n",
        "from datetime import datetime\n",
        "from datetime import timezone\n",
        "\n",
        "cur = db[\"movies\"].find(\n",
        "    filter= {\n",
        "    '$or': [\n",
        "        {\n",
        "            'genres.0': 'Horror'\n",
        "        }, {\n",
        "            'genres.0': 'Film-Noir'\n",
        "        }\n",
        "    ], \n",
        "    'released': {\n",
        "        '$gte': datetime(1939, 12, 31, 21, 0, 0, tzinfo=timezone.utc), \n",
        "        '$lte': datetime(1949, 12, 31, 21, 0, 0, tzinfo=timezone.utc)\n",
        "    }\n",
        "}, projection={\"title\": 1, \"year\": 1, \"_id\": False}\n",
        ")\n",
        "\n",
        "list(cur)"
      ]
    },
    {
      "cell_type": "markdown",
      "metadata": {
        "id": "tzx1nDQ08ojw"
      },
      "source": [
        "### Упражнение 2. Конвейер агрегации"
      ]
    },
    {
      "cell_type": "markdown",
      "metadata": {
        "id": "nx6axWfJbBbc"
      },
      "source": [
        "#### Задача 2.1 — **3 балла**"
      ]
    },
    {
      "cell_type": "markdown",
      "metadata": {
        "id": "oj1sBQtGbLNQ"
      },
      "source": [
        "В рамках этой задачи требуется узнать, какие фильмы получили наибольшее число комментариев. Составьте для этого конвейер агрегации с перечисленными ниже этапами. Для удобства рекомендуется воспользоваться приложением Compass.\n",
        "\n",
        "1. Сгруппировать документы коллекции `comments` по полю `movie_id` и подсчитать количество комментариев для каждого фильма, записав его в поле `count`.\n",
        "1. Отсортировать получившийся набор данных по убыванию количества комментариев (так чтобы первый документ в этом наборе указывал на фильм с наибольшим количеством комментариев).\n",
        "1. Используя оператор `$lookup`, присоединить коллекцию `movies` (по полю `movie_id`).\n",
        "1. Выполнить проекцию, оставив в наборе данных только три поля: название фильма (`title`), год выпуска (`year`) и количество комментариев (поле `count`, добавленное на первом этапе). Для этого воспользуйтесь оператором `$project`: https://www.mongodb.com/docs/manual/reference/operator/aggregation/project/. Обратите внимание, что данные из коллекции `movies` (`title` и `year`) на этом этапе окажутся внутри массива.\n",
        "1. Применить оператор `$unwind`, чтобы деконструировать этот массив. См. https://www.mongodb.com/docs/manual/reference/operator/aggregation/unwind/. В результате массив должен превратиться в одиночный объект.\n",
        "1. Применить оператор `$addFields`, чтобы добавить поля `title` и `year` на вернхий уровень структуры документа. См. https://www.mongodb.com/docs/manual/reference/operator/aggregation/addFields/.\n",
        "1. Еще раз выполнить проекцию, чтобы удалить поле с массивом.\n",
        "\n",
        "Ваш алгоритм решения может отличаться от приведенного здесь. Главное — достичь цели: получить плоский набор данных с тремя полями (`count` — количество комментариев, `year` — год выпуска, `title` — название фильма).\n",
        "\n",
        "Скопируйте полученный конвейер в этот документ в виде кода на Python и выведите его на экран в виде списка словарей."
      ]
    },
    {
      "cell_type": "code",
      "execution_count": null,
      "metadata": {
        "id": "MSI2ITxZjMk2"
      },
      "outputs": [],
      "source": [
        "# Ваш код здесь\n"
      ]
    },
    {
      "cell_type": "markdown",
      "metadata": {
        "id": "AFZpD6MVqVff"
      },
      "source": [
        "#### Задача 2.2 — **1 балл**"
      ]
    },
    {
      "cell_type": "markdown",
      "metadata": {
        "id": "fqF1_fs1qWvj"
      },
      "source": [
        "Используя данные, полученные в задаче 2.1, выведите на экран столбчатую диаграмму, показывающую топ-20 наиболее комментируемых фильмов. По оси ординат выведите названия этих фильмов (подписи разместите слева диаграммы), по оси абсцисс — количество комментариев.\n",
        "\n",
        "Для решения задачи можно использовать любую библиотеку, например Seaborn или Matplotlib."
      ]
    },
    {
      "cell_type": "code",
      "execution_count": null,
      "metadata": {
        "id": "J17JdNLymo5k"
      },
      "outputs": [],
      "source": [
        "# Ваш код здесь\n"
      ]
    }
  ],
  "metadata": {
    "colab": {
      "provenance": []
    },
    "kernelspec": {
      "display_name": "dsps",
      "language": "python",
      "name": "python3"
    },
    "language_info": {
      "codemirror_mode": {
        "name": "ipython",
        "version": 3
      },
      "file_extension": ".py",
      "mimetype": "text/x-python",
      "name": "python",
      "nbconvert_exporter": "python",
      "pygments_lexer": "ipython3",
      "version": "3.12.9"
    }
  },
  "nbformat": 4,
  "nbformat_minor": 0
}
