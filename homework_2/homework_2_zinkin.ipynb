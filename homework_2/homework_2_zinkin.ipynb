{
 "cells": [
  {
   "cell_type": "markdown",
   "metadata": {},
   "source": [
    "# Домашняя работа 2\n",
    "\n",
    "Основные операторы PostgreSQL"
   ]
  },
  {
   "cell_type": "markdown",
   "metadata": {},
   "source": [
    "### Создание таблиц\n",
    "\n",
    "```sql\n",
    "create database homework_2;\n",
    "\n",
    "create table customer_20250217 (\n",
    "\tcustomer_id int4 primary key\n",
    "\t,first_name varchar(50)\n",
    "\t,last_name varchar(50)\n",
    "\t,gender varchar(30)\n",
    "\t,dob varchar(50)\n",
    "\t,job_title varchar(50)\n",
    "\t,job_industry_category varchar(50)\n",
    "\t,wealth_segment varchar(50)\n",
    "\t,decesed_indicator varchar(50)\n",
    "\t,owns_car varchar(30)\n",
    "\t,address varchar(50)\n",
    "\t,postcode varchar(30)\n",
    "\t,state varchar(30)\n",
    "\t,country varchar(30)\n",
    "\t,property_valuation int4\n",
    ");\n",
    "\n",
    "create table transaction_20250217 (\n",
    "\ttransaction_id int4 primary key\n",
    "\t,product_id int4\n",
    "\t,customer_id int4\n",
    "\t,transaction_date varchar(30)\n",
    "\t,online_order varchar(30)\n",
    "\t,order_status varchar(30)\n",
    "\t,brand varchar(30)\n",
    "\t,product_line varchar(30)\n",
    "\t,product_class varchar(30)\n",
    "\t,product_size varchar(30)\n",
    "\t,list_price float4\n",
    "\t,standart_cost float4\n",
    ");\n",
    "\n",
    "```"
   ]
  },
  {
   "cell_type": "markdown",
   "metadata": {},
   "source": [
    "![image_1](img/img_1.png)"
   ]
  },
  {
   "cell_type": "markdown",
   "metadata": {},
   "source": [
    "![img_2](img/img_2.png)"
   ]
  },
  {
   "cell_type": "markdown",
   "metadata": {},
   "source": []
  }
 ],
 "metadata": {
  "language_info": {
   "name": "python"
  }
 },
 "nbformat": 4,
 "nbformat_minor": 2
}
