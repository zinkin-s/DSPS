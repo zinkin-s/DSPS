{
 "cells": [
  {
   "cell_type": "markdown",
   "metadata": {},
   "source": [
    "# Домашняя работа 2\n",
    "\n",
    "Основные операторы PostgreSQL"
   ]
  },
  {
   "cell_type": "markdown",
   "metadata": {},
   "source": [
    "### Создание таблиц\n",
    "\n",
    "```sql\n",
    "create database homework_2;\n",
    "\n",
    "create table customer_20250217 (\n",
    "\tcustomer_id int4 primary key\n",
    "\t,first_name varchar(50)\n",
    "\t,last_name varchar(50)\n",
    "\t,gender varchar(30)\n",
    "\t,dob varchar(50)\n",
    "\t,job_title varchar(50)\n",
    "\t,job_industry_category varchar(50)\n",
    "\t,wealth_segment varchar(50)\n",
    "\t,decesed_indicator varchar(50)\n",
    "\t,owns_car varchar(30)\n",
    "\t,address varchar(50)\n",
    "\t,postcode varchar(30)\n",
    "\t,state varchar(30)\n",
    "\t,country varchar(30)\n",
    "\t,property_valuation int4\n",
    ");\n",
    "\n",
    "create table transaction_20250217 (\n",
    "\ttransaction_id int4 primary key\n",
    "\t,product_id int4\n",
    "\t,customer_id int4\n",
    "\t,transaction_date varchar(30)\n",
    "\t,online_order varchar(30)\n",
    "\t,order_status varchar(30)\n",
    "\t,brand varchar(30)\n",
    "\t,product_line varchar(30)\n",
    "\t,product_class varchar(30)\n",
    "\t,product_size varchar(30)\n",
    "\t,list_price float4\n",
    "\t,standart_cost float4\n",
    ");\n",
    "\n",
    "```"
   ]
  },
  {
   "cell_type": "markdown",
   "metadata": {},
   "source": [
    "![image_1](img/img_1.png)"
   ]
  },
  {
   "cell_type": "markdown",
   "metadata": {},
   "source": [
    "![img_2](img/img_2.png)"
   ]
  },
  {
   "cell_type": "markdown",
   "metadata": {},
   "source": [
    "### Вывести все уникальные бренды, у которых стандартная стоимость выше 1500 долларов.\n",
    "\n",
    "```sql\n",
    "    select distinct brand\n",
    "    from transaction_20250217\n",
    "    where standart_cost > 1500\n",
    "```"
   ]
  },
  {
   "cell_type": "markdown",
   "metadata": {},
   "source": [
    "![img_3](img/img_3.png)"
   ]
  },
  {
   "cell_type": "markdown",
   "metadata": {},
   "source": [
    "### Вывести все подтвержденные транзакции за период '2017-04-01' по '2017-04-09' включительно\n",
    "\n",
    "```sql\n",
    "    select *\n",
    "    from transaction_20250217\n",
    "    where to_date(transaction_date, 'DD.MM.YYYY') between '2017-04-01' and '2017-04-09'\n",
    "    and order_status = 'Approved'\n",
    "    order by to_date(transaction_date, 'DD.MM.YYYY') desc;\n",
    "```"
   ]
  },
  {
   "cell_type": "markdown",
   "metadata": {},
   "source": [
    "![img_4](img/img4.png)"
   ]
  },
  {
   "cell_type": "markdown",
   "metadata": {},
   "source": [
    "### Вывести все профессии у клиентов из сферы IT или Financial Services, которые начинаются с фразы 'Senior'.\n",
    "\n",
    "```sql\n",
    "    select distinct job_title\n",
    "    from customer_20250217\n",
    "    where job_industry_category in ('IT', 'Financial Services') and job_title like 'Senior_%';\n",
    "\n",
    "```"
   ]
  },
  {
   "cell_type": "markdown",
   "metadata": {},
   "source": [
    "![img_5](img/img_5.png)"
   ]
  },
  {
   "cell_type": "markdown",
   "metadata": {},
   "source": [
    "### Вывести все бренды, которые закупают клиенты, работающие в сфере Financial Services\n",
    "\n",
    "```sql\n",
    "    select distinct brand\n",
    "    from transaction_20250217 t \n",
    "    join customer_20250217 c on c.customer_id = t.customer_id \n",
    "    where c.job_industry_category = 'Financial Services';\n",
    "```"
   ]
  },
  {
   "cell_type": "markdown",
   "metadata": {},
   "source": [
    "![img_6](img/img_6.png)"
   ]
  },
  {
   "cell_type": "markdown",
   "metadata": {},
   "source": [
    "### Вывести 10 клиентов, которые оформили онлайн-заказ продукции из брендов 'Giant Bicycles', 'Norco Bicycles', 'Trek Bicycles'\n",
    "\n",
    "```sql\n",
    "    select \n",
    "    c.customer_id\n",
    "    ,c.first_name\n",
    "    ,c.last_name\n",
    "    ,t.brand\n",
    "    ,t.online_order    \n",
    "    from customer_20250217 c \n",
    "    join transaction_20250217 t on t.customer_id = c.customer_id \n",
    "    where t.brand in ('Giant Bicycles', 'Norco Bicycles', 'Trek Bicycles') \n",
    "    and t.online_order::bool is true \n",
    "    limit 10;\n",
    "```"
   ]
  },
  {
   "cell_type": "markdown",
   "metadata": {},
   "source": [
    "![img_7](img/img_7.png)"
   ]
  },
  {
   "cell_type": "markdown",
   "metadata": {},
   "source": [
    "### Вывести всех клиентов, у которых нет транзакций\n",
    "\n",
    "```sql\n",
    "    select  \n",
    "    c.customer_id\n",
    "    ,c.first_name\n",
    "    ,c.last_name\n",
    "    ,t.transaction_id \n",
    "    from customer_20250217 c \n",
    "    left join transaction_20250217 t on t.customer_id = c.customer_id\n",
    "    where t.transaction_id is null;\n",
    "```"
   ]
  },
  {
   "cell_type": "markdown",
   "metadata": {},
   "source": [
    "![img_8](img/img_8.png)"
   ]
  },
  {
   "cell_type": "markdown",
   "metadata": {},
   "source": [
    "### Проверка\n",
    "\n",
    "```sql\n",
    "    select transaction_id, customer_id\n",
    "    from transaction_20250217\n",
    "    where customer_id in (852, 869, 1373, 2074, 2660, 3667, 3668)\n",
    "```"
   ]
  },
  {
   "cell_type": "markdown",
   "metadata": {},
   "source": [
    "![img_9](img/img_9.png)"
   ]
  },
  {
   "cell_type": "markdown",
   "metadata": {},
   "source": [
    "### Вывести всех клиентов из IT, у которых транзакции с максимальной стандартной стоимостью.\n",
    "\n",
    "```sql\n",
    "    with max_cost as (\n",
    "\tselect *\n",
    "\tfrom transaction_20250217 t \n",
    "\twhere t.standart_cost = (select max(standart_cost) from transaction_20250217)\n",
    ")\n",
    "    select *\n",
    "    from customer_20250217 c \n",
    "    join max_cost m on m.customer_id = c.customer_id \n",
    "    where c.job_industry_category = 'IT';\n",
    "```"
   ]
  },
  {
   "cell_type": "markdown",
   "metadata": {},
   "source": [
    "![img_10](img/img_10.png)"
   ]
  },
  {
   "cell_type": "markdown",
   "metadata": {},
   "source": [
    "### Вывести всех клиентов из сферы IT и Health, у которых есть подтвержденные транзакции за период '2017-07-07' по '2017-07-17'.\n",
    "\n",
    "```sql\n",
    "    with transact as (\n",
    "\tselect *\n",
    "\tfrom transaction_20250217 t \n",
    "\twhere to_date(t.transaction_date, 'DD.MM.YYYY') between '2017-07-07' and '2017-07-17'\n",
    ")\n",
    "\tselect \n",
    "\tc.customer_id\n",
    "\t,c.first_name\n",
    "\t,c.last_name\n",
    "\t,c.job_industry_category\n",
    "\t,tr.transaction_date\n",
    "\t,tr.order_status  \n",
    "\tfrom customer_20250217 c \n",
    "\tjoin transact tr on tr.customer_id = c.customer_id \n",
    "\twhere c.job_industry_category in ('IT', 'Health') and tr.order_status = 'Approved';\n",
    "\n",
    "```"
   ]
  },
  {
   "cell_type": "markdown",
   "metadata": {},
   "source": [
    "![img_11](img/img_11.png)"
   ]
  },
  {
   "cell_type": "markdown",
   "metadata": {},
   "source": []
  }
 ],
 "metadata": {
  "language_info": {
   "name": "python"
  }
 },
 "nbformat": 4,
 "nbformat_minor": 2
}
